{
 "cells": [
  {
   "cell_type": "code",
   "execution_count": 0,
   "metadata": {
    "application/vnd.databricks.v1+cell": {
     "cellMetadata": {
      "byteLimit": 2048000,
      "rowLimit": 10000
     },
     "inputWidgets": {},
     "nuid": "9f931175-8d02-4e38-9be1-96e067effd86",
     "showTitle": false,
     "title": ""
    }
   },
   "outputs": [],
   "source": [
    "from pyspark.sql import functions as F"
   ]
  },
  {
   "cell_type": "markdown",
   "metadata": {
    "application/vnd.databricks.v1+cell": {
     "cellMetadata": {
      "byteLimit": 2048000,
      "rowLimit": 10000
     },
     "inputWidgets": {},
     "nuid": "0b45e861-943c-4b48-ad28-ab2eb7c4e1a0",
     "showTitle": false,
     "title": ""
    }
   },
   "source": [
    "#### import the Online_Retail dataset"
   ]
  },
  {
   "cell_type": "code",
   "execution_count": 0,
   "metadata": {
    "application/vnd.databricks.v1+cell": {
     "cellMetadata": {
      "byteLimit": 2048000,
      "rowLimit": 10000
     },
     "inputWidgets": {},
     "nuid": "60fc6f4b-a01f-4ac6-abdc-93d553161e99",
     "showTitle": false,
     "title": ""
    }
   },
   "outputs": [
    {
     "output_type": "display_data",
     "data": {
      "text/html": [
       "<style scoped>\n",
       "  .table-result-container {\n",
       "    max-height: 300px;\n",
       "    overflow: auto;\n",
       "  }\n",
       "  table, th, td {\n",
       "    border: 1px solid black;\n",
       "    border-collapse: collapse;\n",
       "  }\n",
       "  th, td {\n",
       "    padding: 5px;\n",
       "  }\n",
       "  th {\n",
       "    text-align: left;\n",
       "  }\n",
       "</style><div class='table-result-container'><table class='table-result'><thead style='background-color: white'><tr><th>InvoiceNo</th><th>StockCode</th><th>Description</th><th>Quantity</th><th>InvoiceDate</th><th>UnitPrice</th><th>CustomerID</th><th>Country</th></tr></thead><tbody><tr><td>536365</td><td>85123A</td><td>WHITE HANGING HEART T-LIGHT HOLDER</td><td>6</td><td>12/1/2010 8:26</td><td>2.55</td><td>17850</td><td>United Kingdom</td></tr><tr><td>536365</td><td>71053</td><td>WHITE METAL LANTERN</td><td>6</td><td>12/1/2010 8:26</td><td>3.39</td><td>17850</td><td>United Kingdom</td></tr><tr><td>536365</td><td>84406B</td><td>CREAM CUPID HEARTS COAT HANGER</td><td>8</td><td>12/1/2010 8:26</td><td>2.75</td><td>17850</td><td>United Kingdom</td></tr><tr><td>536365</td><td>84029G</td><td>KNITTED UNION FLAG HOT WATER BOTTLE</td><td>6</td><td>12/1/2010 8:26</td><td>3.39</td><td>17850</td><td>United Kingdom</td></tr><tr><td>536365</td><td>84029E</td><td>RED WOOLLY HOTTIE WHITE HEART.</td><td>6</td><td>12/1/2010 8:26</td><td>3.39</td><td>17850</td><td>United Kingdom</td></tr><tr><td>536365</td><td>22752</td><td>SET 7 BABUSHKA NESTING BOXES</td><td>2</td><td>12/1/2010 8:26</td><td>7.65</td><td>17850</td><td>United Kingdom</td></tr><tr><td>536365</td><td>21730</td><td>GLASS STAR FROSTED T-LIGHT HOLDER</td><td>6</td><td>12/1/2010 8:26</td><td>4.25</td><td>17850</td><td>United Kingdom</td></tr><tr><td>536366</td><td>22633</td><td>HAND WARMER UNION JACK</td><td>6</td><td>12/1/2010 8:28</td><td>1.85</td><td>17850</td><td>United Kingdom</td></tr><tr><td>536366</td><td>22632</td><td>HAND WARMER RED POLKA DOT</td><td>6</td><td>12/1/2010 8:28</td><td>1.85</td><td>17850</td><td>United Kingdom</td></tr><tr><td>536367</td><td>84879</td><td>ASSORTED COLOUR BIRD ORNAMENT</td><td>32</td><td>12/1/2010 8:34</td><td>1.69</td><td>13047</td><td>United Kingdom</td></tr></tbody></table></div>"
      ]
     },
     "metadata": {
      "application/vnd.databricks.v1+output": {
       "addedWidgets": {},
       "aggData": [],
       "aggError": "",
       "aggOverflow": false,
       "aggSchema": [],
       "aggSeriesLimitReached": false,
       "aggType": "",
       "arguments": {},
       "columnCustomDisplayInfos": {},
       "data": [
        [
         "536365",
         "85123A",
         "WHITE HANGING HEART T-LIGHT HOLDER",
         "6",
         "12/1/2010 8:26",
         "2.55",
         "17850",
         "United Kingdom"
        ],
        [
         "536365",
         "71053",
         "WHITE METAL LANTERN",
         "6",
         "12/1/2010 8:26",
         "3.39",
         "17850",
         "United Kingdom"
        ],
        [
         "536365",
         "84406B",
         "CREAM CUPID HEARTS COAT HANGER",
         "8",
         "12/1/2010 8:26",
         "2.75",
         "17850",
         "United Kingdom"
        ],
        [
         "536365",
         "84029G",
         "KNITTED UNION FLAG HOT WATER BOTTLE",
         "6",
         "12/1/2010 8:26",
         "3.39",
         "17850",
         "United Kingdom"
        ],
        [
         "536365",
         "84029E",
         "RED WOOLLY HOTTIE WHITE HEART.",
         "6",
         "12/1/2010 8:26",
         "3.39",
         "17850",
         "United Kingdom"
        ],
        [
         "536365",
         "22752",
         "SET 7 BABUSHKA NESTING BOXES",
         "2",
         "12/1/2010 8:26",
         "7.65",
         "17850",
         "United Kingdom"
        ],
        [
         "536365",
         "21730",
         "GLASS STAR FROSTED T-LIGHT HOLDER",
         "6",
         "12/1/2010 8:26",
         "4.25",
         "17850",
         "United Kingdom"
        ],
        [
         "536366",
         "22633",
         "HAND WARMER UNION JACK",
         "6",
         "12/1/2010 8:28",
         "1.85",
         "17850",
         "United Kingdom"
        ],
        [
         "536366",
         "22632",
         "HAND WARMER RED POLKA DOT",
         "6",
         "12/1/2010 8:28",
         "1.85",
         "17850",
         "United Kingdom"
        ],
        [
         "536367",
         "84879",
         "ASSORTED COLOUR BIRD ORNAMENT",
         "32",
         "12/1/2010 8:34",
         "1.69",
         "13047",
         "United Kingdom"
        ]
       ],
       "datasetInfos": [],
       "dbfsResultPath": null,
       "isJsonSchema": true,
       "metadata": {},
       "overflow": false,
       "plotOptions": {
        "customPlotOptions": {},
        "displayType": "table",
        "pivotAggregation": null,
        "pivotColumns": null,
        "xColumns": null,
        "yColumns": null
       },
       "removedWidgets": [],
       "schema": [
        {
         "metadata": "{}",
         "name": "InvoiceNo",
         "type": "\"string\""
        },
        {
         "metadata": "{}",
         "name": "StockCode",
         "type": "\"string\""
        },
        {
         "metadata": "{}",
         "name": "Description",
         "type": "\"string\""
        },
        {
         "metadata": "{}",
         "name": "Quantity",
         "type": "\"string\""
        },
        {
         "metadata": "{}",
         "name": "InvoiceDate",
         "type": "\"string\""
        },
        {
         "metadata": "{}",
         "name": "UnitPrice",
         "type": "\"string\""
        },
        {
         "metadata": "{}",
         "name": "CustomerID",
         "type": "\"string\""
        },
        {
         "metadata": "{}",
         "name": "Country",
         "type": "\"string\""
        }
       ],
       "type": "table"
      }
     },
     "output_type": "display_data"
    },
    {
     "output_type": "stream",
     "name": "stdout",
     "output_type": "stream",
     "text": [
      "root\n |-- InvoiceNo: string (nullable = true)\n |-- StockCode: string (nullable = true)\n |-- Description: string (nullable = true)\n |-- Quantity: string (nullable = true)\n |-- InvoiceDate: string (nullable = true)\n |-- UnitPrice: string (nullable = true)\n |-- CustomerID: string (nullable = true)\n |-- Country: string (nullable = true)\n\n"
     ]
    }
   ],
   "source": [
    "df = spark.read.csv('dbfs:/FileStore/Online_Retail.csv',header= True)\n",
    "display(df.limit(10))\n",
    "df.printSchema()"
   ]
  },
  {
   "cell_type": "markdown",
   "metadata": {
    "application/vnd.databricks.v1+cell": {
     "cellMetadata": {
      "byteLimit": 2048000,
      "rowLimit": 10000
     },
     "inputWidgets": {},
     "nuid": "60d2c035-f2a7-4c63-a1ae-a78f1b379716",
     "showTitle": false,
     "title": ""
    }
   },
   "source": [
    "#### 1. Define Schema Manually. Don't use inferschema."
   ]
  },
  {
   "cell_type": "code",
   "execution_count": 0,
   "metadata": {
    "application/vnd.databricks.v1+cell": {
     "cellMetadata": {
      "byteLimit": 2048000,
      "rowLimit": 10000
     },
     "inputWidgets": {},
     "nuid": "385fe21c-c833-47fd-bdb2-f5e6bd885f92",
     "showTitle": false,
     "title": ""
    }
   },
   "outputs": [],
   "source": [
    "from pyspark.sql.types import StructType, StringType, IntegerType, StructField, DateType,FloatType,DoubleType"
   ]
  },
  {
   "cell_type": "code",
   "execution_count": 0,
   "metadata": {
    "application/vnd.databricks.v1+cell": {
     "cellMetadata": {
      "byteLimit": 2048000,
      "rowLimit": 10000
     },
     "inputWidgets": {},
     "nuid": "174b84f2-8b5d-446c-bf7d-7fe5a6071917",
     "showTitle": false,
     "title": ""
    }
   },
   "outputs": [],
   "source": [
    "new_schema = StructType(fields=[\n",
    "        StructField(\"InvoiceNo\", StringType()),\n",
    "        StructField(\"StockCode\", StringType()),\n",
    "        StructField(\"Description\", StringType()),\n",
    "        StructField(\"Quantity\", IntegerType()),\n",
    "        StructField(\"InvoiceDate\", StringType()),\n",
    "        StructField(\"UnitPrice\", FloatType()),\n",
    "        StructField(\"CustomerID\", IntegerType()),\n",
    "        StructField(\"Country\", StringType())\n",
    "])"
   ]
  },
  {
   "cell_type": "code",
   "execution_count": 0,
   "metadata": {
    "application/vnd.databricks.v1+cell": {
     "cellMetadata": {
      "byteLimit": 2048000,
      "rowLimit": 10000
     },
     "inputWidgets": {},
     "nuid": "1360e511-707d-4e6c-bfa4-b99533a3d51c",
     "showTitle": false,
     "title": ""
    }
   },
   "outputs": [
    {
     "output_type": "display_data",
     "data": {
      "text/html": [
       "<style scoped>\n",
       "  .table-result-container {\n",
       "    max-height: 300px;\n",
       "    overflow: auto;\n",
       "  }\n",
       "  table, th, td {\n",
       "    border: 1px solid black;\n",
       "    border-collapse: collapse;\n",
       "  }\n",
       "  th, td {\n",
       "    padding: 5px;\n",
       "  }\n",
       "  th {\n",
       "    text-align: left;\n",
       "  }\n",
       "</style><div class='table-result-container'><table class='table-result'><thead style='background-color: white'><tr><th>InvoiceNo</th><th>StockCode</th><th>Description</th><th>Quantity</th><th>InvoiceDate</th><th>UnitPrice</th><th>CustomerID</th><th>Country</th></tr></thead><tbody><tr><td>536365</td><td>85123A</td><td>WHITE HANGING HEART T-LIGHT HOLDER</td><td>6</td><td>12/1/2010 8:26</td><td>2.55</td><td>17850</td><td>United Kingdom</td></tr><tr><td>536365</td><td>71053</td><td>WHITE METAL LANTERN</td><td>6</td><td>12/1/2010 8:26</td><td>3.39</td><td>17850</td><td>United Kingdom</td></tr><tr><td>536365</td><td>84406B</td><td>CREAM CUPID HEARTS COAT HANGER</td><td>8</td><td>12/1/2010 8:26</td><td>2.75</td><td>17850</td><td>United Kingdom</td></tr><tr><td>536365</td><td>84029G</td><td>KNITTED UNION FLAG HOT WATER BOTTLE</td><td>6</td><td>12/1/2010 8:26</td><td>3.39</td><td>17850</td><td>United Kingdom</td></tr><tr><td>536365</td><td>84029E</td><td>RED WOOLLY HOTTIE WHITE HEART.</td><td>6</td><td>12/1/2010 8:26</td><td>3.39</td><td>17850</td><td>United Kingdom</td></tr><tr><td>536365</td><td>22752</td><td>SET 7 BABUSHKA NESTING BOXES</td><td>2</td><td>12/1/2010 8:26</td><td>7.65</td><td>17850</td><td>United Kingdom</td></tr><tr><td>536365</td><td>21730</td><td>GLASS STAR FROSTED T-LIGHT HOLDER</td><td>6</td><td>12/1/2010 8:26</td><td>4.25</td><td>17850</td><td>United Kingdom</td></tr><tr><td>536366</td><td>22633</td><td>HAND WARMER UNION JACK</td><td>6</td><td>12/1/2010 8:28</td><td>1.85</td><td>17850</td><td>United Kingdom</td></tr><tr><td>536366</td><td>22632</td><td>HAND WARMER RED POLKA DOT</td><td>6</td><td>12/1/2010 8:28</td><td>1.85</td><td>17850</td><td>United Kingdom</td></tr><tr><td>536367</td><td>84879</td><td>ASSORTED COLOUR BIRD ORNAMENT</td><td>32</td><td>12/1/2010 8:34</td><td>1.69</td><td>13047</td><td>United Kingdom</td></tr></tbody></table></div>"
      ]
     },
     "metadata": {
      "application/vnd.databricks.v1+output": {
       "addedWidgets": {},
       "aggData": [],
       "aggError": "",
       "aggOverflow": false,
       "aggSchema": [],
       "aggSeriesLimitReached": false,
       "aggType": "",
       "arguments": {},
       "columnCustomDisplayInfos": {},
       "data": [
        [
         "536365",
         "85123A",
         "WHITE HANGING HEART T-LIGHT HOLDER",
         6,
         "12/1/2010 8:26",
         2.55,
         17850,
         "United Kingdom"
        ],
        [
         "536365",
         "71053",
         "WHITE METAL LANTERN",
         6,
         "12/1/2010 8:26",
         3.39,
         17850,
         "United Kingdom"
        ],
        [
         "536365",
         "84406B",
         "CREAM CUPID HEARTS COAT HANGER",
         8,
         "12/1/2010 8:26",
         2.75,
         17850,
         "United Kingdom"
        ],
        [
         "536365",
         "84029G",
         "KNITTED UNION FLAG HOT WATER BOTTLE",
         6,
         "12/1/2010 8:26",
         3.39,
         17850,
         "United Kingdom"
        ],
        [
         "536365",
         "84029E",
         "RED WOOLLY HOTTIE WHITE HEART.",
         6,
         "12/1/2010 8:26",
         3.39,
         17850,
         "United Kingdom"
        ],
        [
         "536365",
         "22752",
         "SET 7 BABUSHKA NESTING BOXES",
         2,
         "12/1/2010 8:26",
         7.65,
         17850,
         "United Kingdom"
        ],
        [
         "536365",
         "21730",
         "GLASS STAR FROSTED T-LIGHT HOLDER",
         6,
         "12/1/2010 8:26",
         4.25,
         17850,
         "United Kingdom"
        ],
        [
         "536366",
         "22633",
         "HAND WARMER UNION JACK",
         6,
         "12/1/2010 8:28",
         1.85,
         17850,
         "United Kingdom"
        ],
        [
         "536366",
         "22632",
         "HAND WARMER RED POLKA DOT",
         6,
         "12/1/2010 8:28",
         1.85,
         17850,
         "United Kingdom"
        ],
        [
         "536367",
         "84879",
         "ASSORTED COLOUR BIRD ORNAMENT",
         32,
         "12/1/2010 8:34",
         1.69,
         13047,
         "United Kingdom"
        ]
       ],
       "datasetInfos": [],
       "dbfsResultPath": null,
       "isJsonSchema": true,
       "metadata": {},
       "overflow": false,
       "plotOptions": {
        "customPlotOptions": {},
        "displayType": "table",
        "pivotAggregation": null,
        "pivotColumns": null,
        "xColumns": null,
        "yColumns": null
       },
       "removedWidgets": [],
       "schema": [
        {
         "metadata": "{}",
         "name": "InvoiceNo",
         "type": "\"string\""
        },
        {
         "metadata": "{}",
         "name": "StockCode",
         "type": "\"string\""
        },
        {
         "metadata": "{}",
         "name": "Description",
         "type": "\"string\""
        },
        {
         "metadata": "{}",
         "name": "Quantity",
         "type": "\"integer\""
        },
        {
         "metadata": "{}",
         "name": "InvoiceDate",
         "type": "\"string\""
        },
        {
         "metadata": "{}",
         "name": "UnitPrice",
         "type": "\"float\""
        },
        {
         "metadata": "{}",
         "name": "CustomerID",
         "type": "\"integer\""
        },
        {
         "metadata": "{}",
         "name": "Country",
         "type": "\"string\""
        }
       ],
       "type": "table"
      }
     },
     "output_type": "display_data"
    },
    {
     "output_type": "stream",
     "name": "stdout",
     "output_type": "stream",
     "text": [
      "root\n |-- InvoiceNo: string (nullable = true)\n |-- StockCode: string (nullable = true)\n |-- Description: string (nullable = true)\n |-- Quantity: integer (nullable = true)\n |-- InvoiceDate: string (nullable = true)\n |-- UnitPrice: float (nullable = true)\n |-- CustomerID: integer (nullable = true)\n |-- Country: string (nullable = true)\n\n"
     ]
    }
   ],
   "source": [
    "df_retail = spark.read.option(\"header\",True).schema(new_schema).csv(\"dbfs:/FileStore/Online_Retail.csv\")\n",
    "df_retail.limit(10).display()\n",
    "df_retail.printSchema()"
   ]
  },
  {
   "cell_type": "markdown",
   "metadata": {
    "application/vnd.databricks.v1+cell": {
     "cellMetadata": {
      "byteLimit": 2048000,
      "rowLimit": 10000
     },
     "inputWidgets": {},
     "nuid": "415126f2-7dfd-4efd-972a-5bf8752307cf",
     "showTitle": false,
     "title": ""
    }
   },
   "source": [
    "#### 2. Create a new column that represents the total price for each item"
   ]
  },
  {
   "cell_type": "code",
   "execution_count": 0,
   "metadata": {
    "application/vnd.databricks.v1+cell": {
     "cellMetadata": {
      "byteLimit": 2048000,
      "rowLimit": 10000
     },
     "inputWidgets": {},
     "nuid": "2f4bd8e0-ae3d-4bcd-96a1-5bbe05723bc0",
     "showTitle": false,
     "title": ""
    }
   },
   "outputs": [
    {
     "output_type": "display_data",
     "data": {
      "text/html": [
       "<style scoped>\n",
       "  .table-result-container {\n",
       "    max-height: 300px;\n",
       "    overflow: auto;\n",
       "  }\n",
       "  table, th, td {\n",
       "    border: 1px solid black;\n",
       "    border-collapse: collapse;\n",
       "  }\n",
       "  th, td {\n",
       "    padding: 5px;\n",
       "  }\n",
       "  th {\n",
       "    text-align: left;\n",
       "  }\n",
       "</style><div class='table-result-container'><table class='table-result'><thead style='background-color: white'><tr><th>InvoiceNo</th><th>StockCode</th><th>Description</th><th>Quantity</th><th>InvoiceDate</th><th>UnitPrice</th><th>CustomerID</th><th>Country</th><th>Total_Price</th></tr></thead><tbody><tr><td>536365</td><td>85123A</td><td>WHITE HANGING HEART T-LIGHT HOLDER</td><td>6</td><td>12/1/2010 8:26</td><td>2.55</td><td>17850</td><td>United Kingdom</td><td>15.3</td></tr><tr><td>536365</td><td>71053</td><td>WHITE METAL LANTERN</td><td>6</td><td>12/1/2010 8:26</td><td>3.39</td><td>17850</td><td>United Kingdom</td><td>20.34</td></tr><tr><td>536365</td><td>84406B</td><td>CREAM CUPID HEARTS COAT HANGER</td><td>8</td><td>12/1/2010 8:26</td><td>2.75</td><td>17850</td><td>United Kingdom</td><td>22.0</td></tr><tr><td>536365</td><td>84029G</td><td>KNITTED UNION FLAG HOT WATER BOTTLE</td><td>6</td><td>12/1/2010 8:26</td><td>3.39</td><td>17850</td><td>United Kingdom</td><td>20.34</td></tr><tr><td>536365</td><td>84029E</td><td>RED WOOLLY HOTTIE WHITE HEART.</td><td>6</td><td>12/1/2010 8:26</td><td>3.39</td><td>17850</td><td>United Kingdom</td><td>20.34</td></tr><tr><td>536365</td><td>22752</td><td>SET 7 BABUSHKA NESTING BOXES</td><td>2</td><td>12/1/2010 8:26</td><td>7.65</td><td>17850</td><td>United Kingdom</td><td>15.3</td></tr><tr><td>536365</td><td>21730</td><td>GLASS STAR FROSTED T-LIGHT HOLDER</td><td>6</td><td>12/1/2010 8:26</td><td>4.25</td><td>17850</td><td>United Kingdom</td><td>25.5</td></tr><tr><td>536366</td><td>22633</td><td>HAND WARMER UNION JACK</td><td>6</td><td>12/1/2010 8:28</td><td>1.85</td><td>17850</td><td>United Kingdom</td><td>11.1</td></tr><tr><td>536366</td><td>22632</td><td>HAND WARMER RED POLKA DOT</td><td>6</td><td>12/1/2010 8:28</td><td>1.85</td><td>17850</td><td>United Kingdom</td><td>11.1</td></tr><tr><td>536367</td><td>84879</td><td>ASSORTED COLOUR BIRD ORNAMENT</td><td>32</td><td>12/1/2010 8:34</td><td>1.69</td><td>13047</td><td>United Kingdom</td><td>54.08</td></tr></tbody></table></div>"
      ]
     },
     "metadata": {
      "application/vnd.databricks.v1+output": {
       "addedWidgets": {},
       "aggData": [],
       "aggError": "",
       "aggOverflow": false,
       "aggSchema": [],
       "aggSeriesLimitReached": false,
       "aggType": "",
       "arguments": {},
       "columnCustomDisplayInfos": {},
       "data": [
        [
         "536365",
         "85123A",
         "WHITE HANGING HEART T-LIGHT HOLDER",
         6,
         "12/1/2010 8:26",
         2.55,
         17850,
         "United Kingdom",
         15.3
        ],
        [
         "536365",
         "71053",
         "WHITE METAL LANTERN",
         6,
         "12/1/2010 8:26",
         3.39,
         17850,
         "United Kingdom",
         20.34
        ],
        [
         "536365",
         "84406B",
         "CREAM CUPID HEARTS COAT HANGER",
         8,
         "12/1/2010 8:26",
         2.75,
         17850,
         "United Kingdom",
         22.0
        ],
        [
         "536365",
         "84029G",
         "KNITTED UNION FLAG HOT WATER BOTTLE",
         6,
         "12/1/2010 8:26",
         3.39,
         17850,
         "United Kingdom",
         20.34
        ],
        [
         "536365",
         "84029E",
         "RED WOOLLY HOTTIE WHITE HEART.",
         6,
         "12/1/2010 8:26",
         3.39,
         17850,
         "United Kingdom",
         20.34
        ],
        [
         "536365",
         "22752",
         "SET 7 BABUSHKA NESTING BOXES",
         2,
         "12/1/2010 8:26",
         7.65,
         17850,
         "United Kingdom",
         15.3
        ],
        [
         "536365",
         "21730",
         "GLASS STAR FROSTED T-LIGHT HOLDER",
         6,
         "12/1/2010 8:26",
         4.25,
         17850,
         "United Kingdom",
         25.5
        ],
        [
         "536366",
         "22633",
         "HAND WARMER UNION JACK",
         6,
         "12/1/2010 8:28",
         1.85,
         17850,
         "United Kingdom",
         11.1
        ],
        [
         "536366",
         "22632",
         "HAND WARMER RED POLKA DOT",
         6,
         "12/1/2010 8:28",
         1.85,
         17850,
         "United Kingdom",
         11.1
        ],
        [
         "536367",
         "84879",
         "ASSORTED COLOUR BIRD ORNAMENT",
         32,
         "12/1/2010 8:34",
         1.69,
         13047,
         "United Kingdom",
         54.08
        ]
       ],
       "datasetInfos": [],
       "dbfsResultPath": null,
       "isJsonSchema": true,
       "metadata": {},
       "overflow": false,
       "plotOptions": {
        "customPlotOptions": {},
        "displayType": "table",
        "pivotAggregation": null,
        "pivotColumns": null,
        "xColumns": null,
        "yColumns": null
       },
       "removedWidgets": [],
       "schema": [
        {
         "metadata": "{}",
         "name": "InvoiceNo",
         "type": "\"string\""
        },
        {
         "metadata": "{}",
         "name": "StockCode",
         "type": "\"string\""
        },
        {
         "metadata": "{}",
         "name": "Description",
         "type": "\"string\""
        },
        {
         "metadata": "{}",
         "name": "Quantity",
         "type": "\"integer\""
        },
        {
         "metadata": "{}",
         "name": "InvoiceDate",
         "type": "\"string\""
        },
        {
         "metadata": "{}",
         "name": "UnitPrice",
         "type": "\"float\""
        },
        {
         "metadata": "{}",
         "name": "CustomerID",
         "type": "\"integer\""
        },
        {
         "metadata": "{}",
         "name": "Country",
         "type": "\"string\""
        },
        {
         "metadata": "{}",
         "name": "Total_Price",
         "type": "\"float\""
        }
       ],
       "type": "table"
      }
     },
     "output_type": "display_data"
    }
   ],
   "source": [
    "df_retail = df_retail.withColumn('Total_Price', F.col('Quantity') * F.col('UnitPrice'))\\\n",
    "                     .withColumn('Total_Price', F.round('Total_Price',2))\n",
    "df_retail.limit(10).display()"
   ]
  },
  {
   "cell_type": "markdown",
   "metadata": {
    "application/vnd.databricks.v1+cell": {
     "cellMetadata": {
      "byteLimit": 2048000,
      "rowLimit": 10000
     },
     "inputWidgets": {},
     "nuid": "4ec5b08a-bbc2-4f15-8033-8c6b97c1f522",
     "showTitle": false,
     "title": ""
    }
   },
   "source": [
    "#### 3. Convert the InvoiceDate from string to a proper datetime format and extract a separate Date and Time columns"
   ]
  },
  {
   "cell_type": "code",
   "execution_count": 0,
   "metadata": {
    "application/vnd.databricks.v1+cell": {
     "cellMetadata": {
      "byteLimit": 2048000,
      "rowLimit": 10000
     },
     "inputWidgets": {},
     "nuid": "c599a59d-6fcb-472e-81f4-8c9687fd89fd",
     "showTitle": false,
     "title": ""
    }
   },
   "outputs": [],
   "source": [
    "spark.conf.set(\"spark.sql.legacy.timeParserPolicy\" ,\"LEGACY\")"
   ]
  },
  {
   "cell_type": "code",
   "execution_count": 0,
   "metadata": {
    "application/vnd.databricks.v1+cell": {
     "cellMetadata": {
      "byteLimit": 2048000,
      "rowLimit": 10000
     },
     "inputWidgets": {},
     "nuid": "1a5523ab-b977-41c9-a2d7-11c49db39dc9",
     "showTitle": false,
     "title": ""
    }
   },
   "outputs": [
    {
     "output_type": "stream",
     "name": "stdout",
     "output_type": "stream",
     "text": [
      "+-------------------+----------+-----+---+-----+----+\n|        Invoicedate|      Date| Time|Day|Month|year|\n+-------------------+----------+-----+---+-----+----+\n|2010-12-01 08:26:00|01-12-2010|08:26|  1|   12|2010|\n|2010-12-01 08:26:00|01-12-2010|08:26|  1|   12|2010|\n|2010-12-01 08:26:00|01-12-2010|08:26|  1|   12|2010|\n|2010-12-01 08:26:00|01-12-2010|08:26|  1|   12|2010|\n|2010-12-01 08:26:00|01-12-2010|08:26|  1|   12|2010|\n|2010-12-01 08:26:00|01-12-2010|08:26|  1|   12|2010|\n|2010-12-01 08:26:00|01-12-2010|08:26|  1|   12|2010|\n|2010-12-01 08:28:00|01-12-2010|08:28|  1|   12|2010|\n|2010-12-01 08:28:00|01-12-2010|08:28|  1|   12|2010|\n|2010-12-01 08:34:00|01-12-2010|08:34|  1|   12|2010|\n+-------------------+----------+-----+---+-----+----+\nonly showing top 10 rows\n\n"
     ]
    }
   ],
   "source": [
    "df_retail = df_retail.withColumn(\"InvoiceDate\", F.to_timestamp(F.col(\"InvoiceDate\"), \"MM/dd/yyyy HH:mm\"))\\\n",
    "                    .withColumn(\"Date\",F.date_format(F.col(\"InvoiceDate\"),\"dd-MM-yyyy\"))\\\n",
    "                    .withColumn(\"Time\",F.date_format(F.col(\"InvoiceDate\"),\"HH:mm\"))\\\n",
    "                    .withColumn(\"Year\",F.year(F.col(\"InvoiceDate\")))\\\n",
    "                    .withColumn(\"Month\",F.month(F.col(\"InvoiceDate\")))\\\n",
    "                    .withColumn(\"Day\",F.dayofmonth(F.col(\"InvoiceDate\")))\n",
    "                    \n",
    "df_retail.select('Invoicedate','Date','Time','Day','Month','year').show(10)"
   ]
  },
  {
   "cell_type": "markdown",
   "metadata": {
    "application/vnd.databricks.v1+cell": {
     "cellMetadata": {
      "byteLimit": 2048000,
      "rowLimit": 10000
     },
     "inputWidgets": {},
     "nuid": "51958409-9201-4404-89a7-e6f5d8033ca7",
     "showTitle": false,
     "title": ""
    }
   },
   "source": [
    "#### 4. Calculate the total revenue per day and per country"
   ]
  },
  {
   "cell_type": "code",
   "execution_count": 0,
   "metadata": {
    "application/vnd.databricks.v1+cell": {
     "cellMetadata": {
      "byteLimit": 2048000,
      "rowLimit": 10000
     },
     "inputWidgets": {},
     "nuid": "d486dbba-da08-4536-9a2c-b911b40e9fbc",
     "showTitle": false,
     "title": ""
    }
   },
   "outputs": [
    {
     "output_type": "display_data",
     "data": {
      "text/html": [
       "<style scoped>\n",
       "  .table-result-container {\n",
       "    max-height: 300px;\n",
       "    overflow: auto;\n",
       "  }\n",
       "  table, th, td {\n",
       "    border: 1px solid black;\n",
       "    border-collapse: collapse;\n",
       "  }\n",
       "  th, td {\n",
       "    padding: 5px;\n",
       "  }\n",
       "  th {\n",
       "    text-align: left;\n",
       "  }\n",
       "</style><div class='table-result-container'><table class='table-result'><thead style='background-color: white'><tr><th>Country</th><th>Date</th><th>TotalRevenue</th></tr></thead><tbody><tr><td>Australia</td><td>01-12-2010</td><td>358.25</td></tr><tr><td>Australia</td><td>08-12-2010</td><td>258.9</td></tr><tr><td>Australia</td><td>17-12-2010</td><td>415.7</td></tr><tr><td>Australia</td><td>06-01-2011</td><td>7154.38</td></tr><tr><td>Australia</td><td>10-01-2011</td><td>81.6</td></tr><tr><td>Australia</td><td>11-01-2011</td><td>462.5</td></tr><tr><td>Australia</td><td>14-01-2011</td><td>177.0</td></tr><tr><td>Australia</td><td>17-01-2011</td><td>431.3</td></tr><tr><td>Australia</td><td>19-01-2011</td><td>238.5</td></tr><tr><td>Australia</td><td>20-01-2011</td><td>87.75</td></tr></tbody></table></div>"
      ]
     },
     "metadata": {
      "application/vnd.databricks.v1+output": {
       "addedWidgets": {},
       "aggData": [],
       "aggError": "",
       "aggOverflow": false,
       "aggSchema": [],
       "aggSeriesLimitReached": false,
       "aggType": "",
       "arguments": {},
       "columnCustomDisplayInfos": {},
       "data": [
        [
         "Australia",
         "01-12-2010",
         358.25
        ],
        [
         "Australia",
         "08-12-2010",
         258.9
        ],
        [
         "Australia",
         "17-12-2010",
         415.7
        ],
        [
         "Australia",
         "06-01-2011",
         7154.38
        ],
        [
         "Australia",
         "10-01-2011",
         81.6
        ],
        [
         "Australia",
         "11-01-2011",
         462.5
        ],
        [
         "Australia",
         "14-01-2011",
         177.0
        ],
        [
         "Australia",
         "17-01-2011",
         431.3
        ],
        [
         "Australia",
         "19-01-2011",
         238.5
        ],
        [
         "Australia",
         "20-01-2011",
         87.75
        ]
       ],
       "datasetInfos": [],
       "dbfsResultPath": null,
       "isJsonSchema": true,
       "metadata": {},
       "overflow": false,
       "plotOptions": {
        "customPlotOptions": {},
        "displayType": "table",
        "pivotAggregation": null,
        "pivotColumns": null,
        "xColumns": null,
        "yColumns": null
       },
       "removedWidgets": [],
       "schema": [
        {
         "metadata": "{}",
         "name": "Country",
         "type": "\"string\""
        },
        {
         "metadata": "{}",
         "name": "Date",
         "type": "\"string\""
        },
        {
         "metadata": "{}",
         "name": "TotalRevenue",
         "type": "\"double\""
        }
       ],
       "type": "table"
      }
     },
     "output_type": "display_data"
    }
   ],
   "source": [
    "\n",
    "df_revenue = df_retail.groupBy('Country','Date').agg(F.sum(\"Total_Price\").alias(\"TotalRevenue\")).sort('country')\n",
    "\n",
    "df_revenue = df_revenue.withColumn('TotalRevenue',F.round('TotalRevenue',2))\\\n",
    "                       .withColumn('Date_format',F.to_timestamp(F.col('Date'),\"dd-MM-yyyy\"))\\\n",
    "                       .withColumn('Year',F.year(F.col('Date_format')))\\\n",
    "                       .withColumn(\"Month\",F.month(F.col(\"Date_format\")))\\\n",
    "                       .withColumn(\"Day\",F.dayofmonth(F.col(\"Date_format\"))).sort('country','year','month','Day', ascending=[True,True,True,True]).drop('Date_format','Year','Month','Day')\n",
    "df_revenue.limit(10).display()"
   ]
  },
  {
   "cell_type": "markdown",
   "metadata": {
    "application/vnd.databricks.v1+cell": {
     "cellMetadata": {
      "byteLimit": 2048000,
      "rowLimit": 10000
     },
     "inputWidgets": {},
     "nuid": "bdb4f6ee-5dc3-400b-be06-c8d12d654685",
     "showTitle": false,
     "title": ""
    }
   },
   "source": [
    "#### 5. What country do most purchases come from ?"
   ]
  },
  {
   "cell_type": "code",
   "execution_count": 0,
   "metadata": {
    "application/vnd.databricks.v1+cell": {
     "cellMetadata": {
      "byteLimit": 2048000,
      "rowLimit": 10000
     },
     "inputWidgets": {},
     "nuid": "8f356946-8dff-4715-a9ba-51102e3ea07a",
     "showTitle": false,
     "title": ""
    }
   },
   "outputs": [
    {
     "output_type": "display_data",
     "data": {
      "text/html": [
       "<style scoped>\n",
       "  .table-result-container {\n",
       "    max-height: 300px;\n",
       "    overflow: auto;\n",
       "  }\n",
       "  table, th, td {\n",
       "    border: 1px solid black;\n",
       "    border-collapse: collapse;\n",
       "  }\n",
       "  th, td {\n",
       "    padding: 5px;\n",
       "  }\n",
       "  th {\n",
       "    text-align: left;\n",
       "  }\n",
       "</style><div class='table-result-container'><table class='table-result'><thead style='background-color: white'><tr><th>country</th><th>Total_Revenue</th></tr></thead><tbody><tr><td>United Kingdom</td><td>9025222.059999999</td></tr></tbody></table></div>"
      ]
     },
     "metadata": {
      "application/vnd.databricks.v1+output": {
       "addedWidgets": {},
       "aggData": [],
       "aggError": "",
       "aggOverflow": false,
       "aggSchema": [],
       "aggSeriesLimitReached": false,
       "aggType": "",
       "arguments": {},
       "columnCustomDisplayInfos": {},
       "data": [
        [
         "United Kingdom",
         9025222.059999999
        ]
       ],
       "datasetInfos": [],
       "dbfsResultPath": null,
       "isJsonSchema": true,
       "metadata": {},
       "overflow": false,
       "plotOptions": {
        "customPlotOptions": {},
        "displayType": "table",
        "pivotAggregation": null,
        "pivotColumns": null,
        "xColumns": null,
        "yColumns": null
       },
       "removedWidgets": [],
       "schema": [
        {
         "metadata": "{}",
         "name": "country",
         "type": "\"string\""
        },
        {
         "metadata": "{}",
         "name": "Total_Revenue",
         "type": "\"double\""
        }
       ],
       "type": "table"
      }
     },
     "output_type": "display_data"
    }
   ],
   "source": [
    "most_purchase = df_revenue.groupBy('country').agg(F.sum('TotalRevenue').alias('Total_Revenue')).sort('Total_Revenue', ascending = False).limit(1)\n",
    "most_purchase.display()"
   ]
  },
  {
   "cell_type": "markdown",
   "metadata": {
    "application/vnd.databricks.v1+cell": {
     "cellMetadata": {
      "byteLimit": 2048000,
      "rowLimit": 10000
     },
     "inputWidgets": {},
     "nuid": "62a663cb-f84d-4529-97fa-36a46e21b11b",
     "showTitle": false,
     "title": ""
    }
   },
   "source": [
    "#### 6. Top Selling Products per country"
   ]
  },
  {
   "cell_type": "code",
   "execution_count": 0,
   "metadata": {
    "application/vnd.databricks.v1+cell": {
     "cellMetadata": {
      "byteLimit": 2048000,
      "rowLimit": 10000
     },
     "inputWidgets": {},
     "nuid": "a7f68c61-2976-48ce-9a3a-5d2a71fd51fd",
     "showTitle": false,
     "title": ""
    }
   },
   "outputs": [
    {
     "output_type": "display_data",
     "data": {
      "text/html": [
       "<style scoped>\n",
       "  .table-result-container {\n",
       "    max-height: 300px;\n",
       "    overflow: auto;\n",
       "  }\n",
       "  table, th, td {\n",
       "    border: 1px solid black;\n",
       "    border-collapse: collapse;\n",
       "  }\n",
       "  th, td {\n",
       "    padding: 5px;\n",
       "  }\n",
       "  th {\n",
       "    text-align: left;\n",
       "  }\n",
       "</style><div class='table-result-container'><table class='table-result'><thead style='background-color: white'><tr><th>description</th><th>country</th><th>Num_of_Products</th><th>Top_rank</th></tr></thead><tbody><tr><td>SET OF 3 CAKE TINS PANTRY DESIGN </td><td>Australia</td><td>9</td><td>1</td></tr><tr><td>RED TOADSTOOL LED NIGHT LIGHT</td><td>Australia</td><td>9</td><td>1</td></tr><tr><td>LUNCH BAG SPACEBOY DESIGN </td><td>Australia</td><td>8</td><td>2</td></tr><tr><td>PARTY BUNTING</td><td>Australia</td><td>8</td><td>2</td></tr><tr><td>LUNCH BAG RED RETROSPOT</td><td>Australia</td><td>8</td><td>2</td></tr><tr><td>BAKING SET SPACEBOY DESIGN</td><td>Australia</td><td>8</td><td>2</td></tr><tr><td>ROSES REGENCY TEACUP AND SAUCER </td><td>Australia</td><td>8</td><td>2</td></tr><tr><td>PAPER BUNTING RETROSPOT</td><td>Australia</td><td>7</td><td>3</td></tr><tr><td>SET OF 6 SOLDIER SKITTLES</td><td>Australia</td><td>7</td><td>3</td></tr><tr><td>RED  HARMONICA IN BOX </td><td>Australia</td><td>7</td><td>3</td></tr></tbody></table></div>"
      ]
     },
     "metadata": {
      "application/vnd.databricks.v1+output": {
       "addedWidgets": {},
       "aggData": [],
       "aggError": "",
       "aggOverflow": false,
       "aggSchema": [],
       "aggSeriesLimitReached": false,
       "aggType": "",
       "arguments": {},
       "columnCustomDisplayInfos": {},
       "data": [
        [
         "SET OF 3 CAKE TINS PANTRY DESIGN ",
         "Australia",
         9,
         1
        ],
        [
         "RED TOADSTOOL LED NIGHT LIGHT",
         "Australia",
         9,
         1
        ],
        [
         "LUNCH BAG SPACEBOY DESIGN ",
         "Australia",
         8,
         2
        ],
        [
         "PARTY BUNTING",
         "Australia",
         8,
         2
        ],
        [
         "LUNCH BAG RED RETROSPOT",
         "Australia",
         8,
         2
        ],
        [
         "BAKING SET SPACEBOY DESIGN",
         "Australia",
         8,
         2
        ],
        [
         "ROSES REGENCY TEACUP AND SAUCER ",
         "Australia",
         8,
         2
        ],
        [
         "PAPER BUNTING RETROSPOT",
         "Australia",
         7,
         3
        ],
        [
         "SET OF 6 SOLDIER SKITTLES",
         "Australia",
         7,
         3
        ],
        [
         "RED  HARMONICA IN BOX ",
         "Australia",
         7,
         3
        ]
       ],
       "datasetInfos": [],
       "dbfsResultPath": null,
       "isJsonSchema": true,
       "metadata": {},
       "overflow": false,
       "plotOptions": {
        "customPlotOptions": {},
        "displayType": "table",
        "pivotAggregation": null,
        "pivotColumns": null,
        "xColumns": null,
        "yColumns": null
       },
       "removedWidgets": [],
       "schema": [
        {
         "metadata": "{}",
         "name": "description",
         "type": "\"string\""
        },
        {
         "metadata": "{}",
         "name": "country",
         "type": "\"string\""
        },
        {
         "metadata": "{}",
         "name": "Num_of_Products",
         "type": "\"long\""
        },
        {
         "metadata": "{}",
         "name": "Top_rank",
         "type": "\"integer\""
        }
       ],
       "type": "table"
      }
     },
     "output_type": "display_data"
    },
    {
     "output_type": "display_data",
     "data": {
      "text/html": [
       "<style scoped>\n",
       "  .table-result-container {\n",
       "    max-height: 300px;\n",
       "    overflow: auto;\n",
       "  }\n",
       "  table, th, td {\n",
       "    border: 1px solid black;\n",
       "    border-collapse: collapse;\n",
       "  }\n",
       "  th, td {\n",
       "    padding: 5px;\n",
       "  }\n",
       "  th {\n",
       "    text-align: left;\n",
       "  }\n",
       "</style><div class='table-result-container'><table class='table-result'><thead style='background-color: white'><tr><th>country</th><th>description</th></tr></thead><tbody><tr><td>Australia</td><td>SET OF 3 CAKE TINS PANTRY DESIGN </td></tr><tr><td>Australia</td><td>RED TOADSTOOL LED NIGHT LIGHT</td></tr><tr><td>Austria</td><td>POSTAGE</td></tr><tr><td>Bahrain</td><td>OCEAN SCENT CANDLE IN JEWELLED BOX</td></tr><tr><td>Bahrain</td><td>NOVELTY BISCUITS CAKE STAND 3 TIER</td></tr><tr><td>Belgium</td><td>POSTAGE</td></tr><tr><td>Brazil</td><td>ROSES REGENCY TEACUP AND SAUCER </td></tr><tr><td>Brazil</td><td>EDWARDIAN PARASOL NATURAL</td></tr><tr><td>Brazil</td><td>EDWARDIAN PARASOL BLACK</td></tr><tr><td>Brazil</td><td>PHARMACIE FIRST AID TIN</td></tr></tbody></table></div>"
      ]
     },
     "metadata": {
      "application/vnd.databricks.v1+output": {
       "addedWidgets": {},
       "aggData": [],
       "aggError": "",
       "aggOverflow": false,
       "aggSchema": [],
       "aggSeriesLimitReached": false,
       "aggType": "",
       "arguments": {},
       "columnCustomDisplayInfos": {},
       "data": [
        [
         "Australia",
         "SET OF 3 CAKE TINS PANTRY DESIGN "
        ],
        [
         "Australia",
         "RED TOADSTOOL LED NIGHT LIGHT"
        ],
        [
         "Austria",
         "POSTAGE"
        ],
        [
         "Bahrain",
         "OCEAN SCENT CANDLE IN JEWELLED BOX"
        ],
        [
         "Bahrain",
         "NOVELTY BISCUITS CAKE STAND 3 TIER"
        ],
        [
         "Belgium",
         "POSTAGE"
        ],
        [
         "Brazil",
         "ROSES REGENCY TEACUP AND SAUCER "
        ],
        [
         "Brazil",
         "EDWARDIAN PARASOL NATURAL"
        ],
        [
         "Brazil",
         "EDWARDIAN PARASOL BLACK"
        ],
        [
         "Brazil",
         "PHARMACIE FIRST AID TIN"
        ]
       ],
       "datasetInfos": [],
       "dbfsResultPath": null,
       "isJsonSchema": true,
       "metadata": {},
       "overflow": false,
       "plotOptions": {
        "customPlotOptions": {},
        "displayType": "table",
        "pivotAggregation": null,
        "pivotColumns": null,
        "xColumns": null,
        "yColumns": null
       },
       "removedWidgets": [],
       "schema": [
        {
         "metadata": "{}",
         "name": "country",
         "type": "\"string\""
        },
        {
         "metadata": "{}",
         "name": "description",
         "type": "\"string\""
        }
       ],
       "type": "table"
      }
     },
     "output_type": "display_data"
    }
   ],
   "source": [
    "from pyspark.sql.window import Window\n",
    "\n",
    "df_product = df_retail.groupBy('description','country').agg(F.count('Description').alias('Num_of_Products'))\n",
    "\n",
    "window_data = Window.partitionBy('country').orderBy(F.col('Num_of_Products').desc())\n",
    "Top_product = df_product.withColumn('Top_rank',F.dense_rank().over(window_data))\n",
    "\n",
    "Top_product.limit(10).display()\n",
    "\n",
    "Top_product.select('country','description').where(Top_product.Top_rank == 1).limit(10).display()"
   ]
  },
  {
   "cell_type": "code",
   "execution_count": 0,
   "metadata": {
    "application/vnd.databricks.v1+cell": {
     "cellMetadata": {
      "byteLimit": 2048000,
      "rowLimit": 10000
     },
     "inputWidgets": {},
     "nuid": "616cec0b-6630-4167-a56e-4f9dc4828618",
     "showTitle": false,
     "title": ""
    }
   },
   "outputs": [],
   "source": [
    "df_retail.createOrReplaceTempView('Retail')"
   ]
  },
  {
   "cell_type": "code",
   "execution_count": 0,
   "metadata": {
    "application/vnd.databricks.v1+cell": {
     "cellMetadata": {
      "byteLimit": 2048000,
      "implicitDf": true,
      "rowLimit": 10000
     },
     "inputWidgets": {},
     "nuid": "3ba91704-3d1b-46ca-a8e5-62fec488a5df",
     "showTitle": false,
     "title": ""
    }
   },
   "outputs": [
    {
     "output_type": "display_data",
     "data": {
      "text/html": [
       "<style scoped>\n",
       "  .table-result-container {\n",
       "    max-height: 300px;\n",
       "    overflow: auto;\n",
       "  }\n",
       "  table, th, td {\n",
       "    border: 1px solid black;\n",
       "    border-collapse: collapse;\n",
       "  }\n",
       "  th, td {\n",
       "    padding: 5px;\n",
       "  }\n",
       "  th {\n",
       "    text-align: left;\n",
       "  }\n",
       "</style><div class='table-result-container'><table class='table-result'><thead style='background-color: white'><tr><th>Country</th><th>Product</th></tr></thead><tbody><tr><td>Australia</td><td>SET OF 3 CAKE TINS PANTRY DESIGN </td></tr><tr><td>Australia</td><td>RED TOADSTOOL LED NIGHT LIGHT</td></tr><tr><td>Austria</td><td>POSTAGE</td></tr><tr><td>Bahrain</td><td>OCEAN SCENT CANDLE IN JEWELLED BOX</td></tr><tr><td>Bahrain</td><td>NOVELTY BISCUITS CAKE STAND 3 TIER</td></tr><tr><td>Belgium</td><td>POSTAGE</td></tr><tr><td>Brazil</td><td>ROSES REGENCY TEACUP AND SAUCER </td></tr><tr><td>Brazil</td><td>EDWARDIAN PARASOL NATURAL</td></tr><tr><td>Brazil</td><td>EDWARDIAN PARASOL BLACK</td></tr><tr><td>Brazil</td><td>PHARMACIE FIRST AID TIN</td></tr></tbody></table></div>"
      ]
     },
     "metadata": {
      "application/vnd.databricks.v1+output": {
       "addedWidgets": {},
       "aggData": [],
       "aggError": "",
       "aggOverflow": false,
       "aggSchema": [],
       "aggSeriesLimitReached": false,
       "aggType": "",
       "arguments": {},
       "columnCustomDisplayInfos": {},
       "data": [
        [
         "Australia",
         "SET OF 3 CAKE TINS PANTRY DESIGN "
        ],
        [
         "Australia",
         "RED TOADSTOOL LED NIGHT LIGHT"
        ],
        [
         "Austria",
         "POSTAGE"
        ],
        [
         "Bahrain",
         "OCEAN SCENT CANDLE IN JEWELLED BOX"
        ],
        [
         "Bahrain",
         "NOVELTY BISCUITS CAKE STAND 3 TIER"
        ],
        [
         "Belgium",
         "POSTAGE"
        ],
        [
         "Brazil",
         "ROSES REGENCY TEACUP AND SAUCER "
        ],
        [
         "Brazil",
         "EDWARDIAN PARASOL NATURAL"
        ],
        [
         "Brazil",
         "EDWARDIAN PARASOL BLACK"
        ],
        [
         "Brazil",
         "PHARMACIE FIRST AID TIN"
        ]
       ],
       "datasetInfos": [],
       "dbfsResultPath": null,
       "isJsonSchema": true,
       "metadata": {},
       "overflow": false,
       "plotOptions": {
        "customPlotOptions": {},
        "displayType": "table",
        "pivotAggregation": null,
        "pivotColumns": null,
        "xColumns": null,
        "yColumns": null
       },
       "removedWidgets": [],
       "schema": [
        {
         "metadata": "{}",
         "name": "Country",
         "type": "\"string\""
        },
        {
         "metadata": "{}",
         "name": "Product",
         "type": "\"string\""
        }
       ],
       "type": "table"
      }
     },
     "output_type": "display_data"
    }
   ],
   "source": [
    "%sql\n",
    "with cte1 as (\n",
    "    select Description, Country, count(Description) as Num_of_Products\n",
    "    from Retail\n",
    "    group by Description, country),\n",
    "cte2 as (\n",
    "  Select *,dense_rank() over (Partition by country order by Num_of_Products desc) as rank\n",
    "  from cte1)\n",
    "\n",
    "select Country, Description as Product from cte2\n",
    "where rank = 1\n",
    "limit 10;"
   ]
  },
  {
   "cell_type": "markdown",
   "metadata": {
    "application/vnd.databricks.v1+cell": {
     "cellMetadata": {
      "byteLimit": 2048000,
      "rowLimit": 10000
     },
     "inputWidgets": {},
     "nuid": "f3ec2ccd-f2f1-4d22-be04-a86285f90950",
     "showTitle": false,
     "title": ""
    }
   },
   "source": [
    "#### 7. Analyze the purchase frequency by hour of day and identify peak shopping hours"
   ]
  },
  {
   "cell_type": "code",
   "execution_count": 0,
   "metadata": {
    "application/vnd.databricks.v1+cell": {
     "cellMetadata": {
      "byteLimit": 2048000,
      "rowLimit": 10000
     },
     "inputWidgets": {},
     "nuid": "e19974ab-12fd-495b-92cc-884edded1dc2",
     "showTitle": false,
     "title": ""
    }
   },
   "outputs": [
    {
     "output_type": "display_data",
     "data": {
      "text/html": [
       "<style scoped>\n",
       "  .table-result-container {\n",
       "    max-height: 300px;\n",
       "    overflow: auto;\n",
       "  }\n",
       "  table, th, td {\n",
       "    border: 1px solid black;\n",
       "    border-collapse: collapse;\n",
       "  }\n",
       "  th, td {\n",
       "    padding: 5px;\n",
       "  }\n",
       "  th {\n",
       "    text-align: left;\n",
       "  }\n",
       "</style><div class='table-result-container'><table class='table-result'><thead style='background-color: white'><tr><th>Hour</th><th>Hour_Frequency</th></tr></thead><tbody><tr><td>12</td><td>77230</td></tr><tr><td>15</td><td>76432</td></tr><tr><td>13</td><td>71075</td></tr><tr><td>14</td><td>66266</td></tr><tr><td>11</td><td>56312</td></tr><tr><td>16</td><td>53451</td></tr><tr><td>10</td><td>47895</td></tr><tr><td>09</td><td>33755</td></tr><tr><td>17</td><td>27635</td></tr><tr><td>08</td><td>8805</td></tr><tr><td>18</td><td>7729</td></tr><tr><td>19</td><td>3516</td></tr><tr><td>20</td><td>802</td></tr><tr><td>07</td><td>379</td></tr><tr><td>06</td><td>1</td></tr></tbody></table></div>"
      ]
     },
     "metadata": {
      "application/vnd.databricks.v1+output": {
       "addedWidgets": {},
       "aggData": [],
       "aggError": "",
       "aggOverflow": false,
       "aggSchema": [],
       "aggSeriesLimitReached": false,
       "aggType": "",
       "arguments": {},
       "columnCustomDisplayInfos": {},
       "data": [
        [
         "12",
         77230
        ],
        [
         "15",
         76432
        ],
        [
         "13",
         71075
        ],
        [
         "14",
         66266
        ],
        [
         "11",
         56312
        ],
        [
         "16",
         53451
        ],
        [
         "10",
         47895
        ],
        [
         "09",
         33755
        ],
        [
         "17",
         27635
        ],
        [
         "08",
         8805
        ],
        [
         "18",
         7729
        ],
        [
         "19",
         3516
        ],
        [
         "20",
         802
        ],
        [
         "07",
         379
        ],
        [
         "06",
         1
        ]
       ],
       "datasetInfos": [],
       "dbfsResultPath": null,
       "isJsonSchema": true,
       "metadata": {},
       "overflow": false,
       "plotOptions": {
        "customPlotOptions": {},
        "displayType": "table",
        "pivotAggregation": null,
        "pivotColumns": null,
        "xColumns": null,
        "yColumns": null
       },
       "removedWidgets": [],
       "schema": [
        {
         "metadata": "{}",
         "name": "Hour",
         "type": "\"string\""
        },
        {
         "metadata": "{}",
         "name": "Hour_Frequency",
         "type": "\"long\""
        }
       ],
       "type": "table"
      }
     },
     "output_type": "display_data"
    },
    {
     "output_type": "display_data",
     "data": {
      "text/plain": [
       "Databricks visualization. Run in Databricks to view."
      ]
     },
     "metadata": {
      "application/vnd.databricks.v1.subcommand+json": {
       "bindings": {},
       "collapsed": false,
       "command": "%python\n__backend_agg_display_orig = display\n__backend_agg_dfs = []\ndef __backend_agg_display_new(df):\n    __backend_agg_df_modules = [\"pandas.core.frame\", \"databricks.koalas.frame\", \"pyspark.sql.dataframe\", \"pyspark.pandas.frame\", \"pyspark.sql.connect.dataframe\"]\n    if (type(df).__module__ in __backend_agg_df_modules and type(df).__name__ == 'DataFrame') or isinstance(df, list):\n        __backend_agg_dfs.append(df)\n\ndisplay = __backend_agg_display_new\n\ndef __backend_agg_user_code_fn():\n    import base64\n    exec(base64.standard_b64decode(\"ZGZfaG91ciA9IGRmX3JldGFpbC53aXRoQ29sdW1uKCdIb3VyJyxGLmRhdGVfZm9ybWF0KEYuY29sKCdJbnZvaWNlRGF0ZScpLCJISCIpKQpzaG9wcGluZ19ob3VyID0gZGZfaG91ci5ncm91cEJ5KCdIb3VyJykuYWdnKEYuY291bnQoJ0hvdXInKS5hbGlhcygnSG91cl9GcmVxdWVuY3knKSkuc29ydCgnSG91cl9GcmVxdWVuY3knLGFzY2VuZGluZz1GYWxzZSkKc2hvcHBpbmdfaG91ci5kaXNwbGF5KCk=\").decode())\n\ntry:\n    # run user code\n    __backend_agg_user_code_fn()\n\n    #reset display function\n    display = __backend_agg_display_orig\n\n    if len(__backend_agg_dfs) > 0:\n        # create a temp view\n        if type(__backend_agg_dfs[0]).__module__ == \"databricks.koalas.frame\":\n            # koalas dataframe\n            __backend_agg_dfs[0].to_spark().createOrReplaceTempView(\"DatabricksView0219ba5\")\n        elif type(__backend_agg_dfs[0]).__module__ == \"pandas.core.frame\" or isinstance(__backend_agg_dfs[0], list):\n            # pandas dataframe\n            spark.createDataFrame(__backend_agg_dfs[0]).createOrReplaceTempView(\"DatabricksView0219ba5\")\n        else:\n            __backend_agg_dfs[0].createOrReplaceTempView(\"DatabricksView0219ba5\")\n        #run backend agg\n        display(spark.sql(\"\"\"WITH q AS (select * from DatabricksView0219ba5) SELECT `Hour`,SUM(`Hour_Frequency`) `column_254c506a4` FROM q GROUP BY `Hour`\"\"\"))\n    else:\n        displayHTML(\"dataframe no longer exists. If you're using dataframe.display(), use display(dataframe) instead.\")\n\n\nfinally:\n    spark.sql(\"drop view if exists DatabricksView0219ba5\")\n    display = __backend_agg_display_orig\n    del __backend_agg_display_new\n    del __backend_agg_display_orig\n    del __backend_agg_dfs\n    del __backend_agg_user_code_fn\n\n",
       "commandTitle": "Peak Hours",
       "commandType": "auto",
       "commandVersion": 0,
       "commentThread": [],
       "commentsVisible": false,
       "contentSha256Hex": null,
       "customPlotOptions": {
        "redashChart": [
         {
          "key": "type",
          "value": "CHART"
         },
         {
          "key": "options",
          "value": {
           "alignYAxesAtZero": true,
           "coefficient": 1,
           "columnConfigurationMap": {
            "x": {
             "column": "Hour",
             "id": "column_254c506a3"
            },
            "y": [
             {
              "column": "Hour_Frequency",
              "id": "column_254c506a4",
              "transform": "SUM"
             }
            ]
           },
           "dateTimeFormat": "DD/MM/YYYY HH:mm",
           "direction": {
            "type": "counterclockwise"
           },
           "error_y": {
            "type": "data",
            "visible": true
           },
           "globalSeriesType": "line",
           "isAggregationOn": true,
           "legend": {
            "traceorder": "normal"
           },
           "missingValuesAsZero": true,
           "numberFormat": "'0a'",
           "percentFormat": "0[.]00%",
           "series": {
            "error_y": {
             "type": "data",
             "visible": true
            },
            "stacking": null
           },
           "seriesOptions": {
            "column_254c506a4": {
             "color": "#C63FA9",
             "name": "Hour_Frequency",
             "type": "line",
             "yAxis": 0
            }
           },
           "showDataLabels": true,
           "sizemode": "diameter",
           "sortX": true,
           "sortY": true,
           "swappedAxes": false,
           "textFormat": "",
           "useAggregationsUi": true,
           "valuesOptions": {},
           "version": 2,
           "xAxis": {
            "labels": {
             "enabled": true
            },
            "type": "-"
           },
           "yAxis": [
            {
             "type": "-"
            },
            {
             "opposite": true,
             "type": "-"
            }
           ]
          }
         }
        ]
       },
       "datasetPreviewNameToCmdIdMap": {},
       "diffDeletes": [],
       "diffInserts": [],
       "displayType": "redashChart",
       "error": null,
       "errorDetails": null,
       "errorSummary": null,
       "errorTraceType": null,
       "finishTime": 0,
       "globalVars": {},
       "guid": "",
       "height": "auto",
       "hideCommandCode": false,
       "hideCommandResult": false,
       "iPythonMetadata": null,
       "inputWidgets": {},
       "isLockedInExamMode": false,
       "latestUser": "a user",
       "latestUserId": null,
       "listResultMetadata": null,
       "metadata": {
        "byteLimit": 2048000,
        "rowLimit": 10000
       },
       "nuid": "bf01216a-852f-4f16-8b93-863019564621",
       "origId": 0,
       "parentHierarchy": [],
       "pivotAggregation": null,
       "pivotColumns": null,
       "position": 20.0,
       "resultDbfsErrorMessage": null,
       "resultDbfsStatus": "INLINED_IN_TREE",
       "results": null,
       "showCommandTitle": false,
       "startTime": 0,
       "state": "finished",
       "streamStates": {},
       "subcommandOptions": {
        "queryPlan": {
         "groups": [
          {
           "column": "Hour",
           "type": "column"
          }
         ],
         "selects": [
          {
           "column": "Hour",
           "type": "column"
          },
          {
           "alias": "column_254c506a4",
           "args": [
            {
             "column": "Hour_Frequency",
             "type": "column"
            }
           ],
           "function": "SUM",
           "type": "function"
          }
         ]
        }
       },
       "submitTime": 0,
       "subtype": "tableResultSubCmd.visualization",
       "tableResultIndex": 0,
       "useConsistentColors": false,
       "version": "CommandV1",
       "width": "auto",
       "workflows": [],
       "xColumns": null,
       "yColumns": null
      }
     },
     "output_type": "display_data"
    }
   ],
   "source": [
    "df_hour = df_retail.withColumn('Hour',F.date_format(F.col('InvoiceDate'),\"HH\"))\n",
    "shopping_hour = df_hour.groupBy('Hour').agg(F.count('Hour').alias('Hour_Frequency')).sort('Hour_Frequency',ascending=False)\n",
    "shopping_hour.display()"
   ]
  },
  {
   "cell_type": "markdown",
   "metadata": {
    "application/vnd.databricks.v1+cell": {
     "cellMetadata": {
      "byteLimit": 2048000,
      "rowLimit": 10000
     },
     "inputWidgets": {},
     "nuid": "cafeb438-a71d-41ff-bf83-3459c09a8751",
     "showTitle": false,
     "title": ""
    }
   },
   "source": [
    "#### 8. When was the earliest purchase made by a customer on the e-commerce platform"
   ]
  },
  {
   "cell_type": "code",
   "execution_count": 0,
   "metadata": {
    "application/vnd.databricks.v1+cell": {
     "cellMetadata": {
      "byteLimit": 2048000,
      "implicitDf": true,
      "rowLimit": 10000
     },
     "inputWidgets": {},
     "nuid": "d8b34f78-bcb2-4f16-ab1f-5c7c8978a174",
     "showTitle": false,
     "title": ""
    }
   },
   "outputs": [
    {
     "output_type": "display_data",
     "data": {
      "text/html": [
       "<style scoped>\n",
       "  .table-result-container {\n",
       "    max-height: 300px;\n",
       "    overflow: auto;\n",
       "  }\n",
       "  table, th, td {\n",
       "    border: 1px solid black;\n",
       "    border-collapse: collapse;\n",
       "  }\n",
       "  th, td {\n",
       "    padding: 5px;\n",
       "  }\n",
       "  th {\n",
       "    text-align: left;\n",
       "  }\n",
       "</style><div class='table-result-container'><table class='table-result'><thead style='background-color: white'><tr><th>customerid</th><th>invoiceDate</th></tr></thead><tbody><tr><td>17850</td><td>2010-12-01T08:26:00.000+0000</td></tr></tbody></table></div>"
      ]
     },
     "metadata": {
      "application/vnd.databricks.v1+output": {
       "addedWidgets": {},
       "aggData": [],
       "aggError": "",
       "aggOverflow": false,
       "aggSchema": [],
       "aggSeriesLimitReached": false,
       "aggType": "",
       "arguments": {},
       "columnCustomDisplayInfos": {},
       "data": [
        [
         17850,
         "2010-12-01T08:26:00.000+0000"
        ]
       ],
       "datasetInfos": [],
       "dbfsResultPath": null,
       "isJsonSchema": true,
       "metadata": {},
       "overflow": false,
       "plotOptions": {
        "customPlotOptions": {},
        "displayType": "table",
        "pivotAggregation": null,
        "pivotColumns": null,
        "xColumns": null,
        "yColumns": null
       },
       "removedWidgets": [],
       "schema": [
        {
         "metadata": "{}",
         "name": "customerid",
         "type": "\"integer\""
        },
        {
         "metadata": "{}",
         "name": "invoiceDate",
         "type": "\"timestamp\""
        }
       ],
       "type": "table"
      }
     },
     "output_type": "display_data"
    }
   ],
   "source": [
    "%sql\n",
    "\n",
    "select distinct customerid,invoiceDate from retail\n",
    "where InvoiceDate in (\n",
    "  select min(invoicedate) from retail\n",
    ")"
   ]
  },
  {
   "cell_type": "code",
   "execution_count": 0,
   "metadata": {
    "application/vnd.databricks.v1+cell": {
     "cellMetadata": {
      "byteLimit": 2048000,
      "rowLimit": 10000
     },
     "inputWidgets": {},
     "nuid": "e953a06a-a55d-412c-930e-b4550e45072a",
     "showTitle": false,
     "title": ""
    }
   },
   "outputs": [
    {
     "output_type": "display_data",
     "data": {
      "text/html": [
       "<style scoped>\n",
       "  .table-result-container {\n",
       "    max-height: 300px;\n",
       "    overflow: auto;\n",
       "  }\n",
       "  table, th, td {\n",
       "    border: 1px solid black;\n",
       "    border-collapse: collapse;\n",
       "  }\n",
       "  th, td {\n",
       "    padding: 5px;\n",
       "  }\n",
       "  th {\n",
       "    text-align: left;\n",
       "  }\n",
       "</style><div class='table-result-container'><table class='table-result'><thead style='background-color: white'><tr><th>customerid</th><th>early_date</th></tr></thead><tbody><tr><td>17850</td><td>2010-12-01T08:26:00.000+0000</td></tr></tbody></table></div>"
      ]
     },
     "metadata": {
      "application/vnd.databricks.v1+output": {
       "addedWidgets": {},
       "aggData": [],
       "aggError": "",
       "aggOverflow": false,
       "aggSchema": [],
       "aggSeriesLimitReached": false,
       "aggType": "",
       "arguments": {},
       "columnCustomDisplayInfos": {},
       "data": [
        [
         17850,
         "2010-12-01T08:26:00.000+0000"
        ]
       ],
       "datasetInfos": [],
       "dbfsResultPath": null,
       "isJsonSchema": true,
       "metadata": {},
       "overflow": false,
       "plotOptions": {
        "customPlotOptions": {},
        "displayType": "table",
        "pivotAggregation": null,
        "pivotColumns": null,
        "xColumns": null,
        "yColumns": null
       },
       "removedWidgets": [],
       "schema": [
        {
         "metadata": "{}",
         "name": "customerid",
         "type": "\"integer\""
        },
        {
         "metadata": "{}",
         "name": "early_date",
         "type": "\"timestamp\""
        }
       ],
       "type": "table"
      }
     },
     "output_type": "display_data"
    }
   ],
   "source": [
    "early_customer = df_retail.select('customerid',df_retail['invoicedate'].alias('early_date')).sort('invoicedate').limit(1)\n",
    "early_customer.display()"
   ]
  },
  {
   "cell_type": "markdown",
   "metadata": {
    "application/vnd.databricks.v1+cell": {
     "cellMetadata": {
      "byteLimit": 2048000,
      "rowLimit": 10000
     },
     "inputWidgets": {},
     "nuid": "38b54106-7784-4156-b5f2-848b72fcd779",
     "showTitle": false,
     "title": ""
    }
   },
   "source": [
    "#### 9. Find the total amount spent by each customer"
   ]
  },
  {
   "cell_type": "code",
   "execution_count": 0,
   "metadata": {
    "application/vnd.databricks.v1+cell": {
     "cellMetadata": {
      "byteLimit": 2048000,
      "rowLimit": 10000
     },
     "inputWidgets": {},
     "nuid": "c7300832-ace3-429f-a5df-65d6ee5027c1",
     "showTitle": false,
     "title": ""
    }
   },
   "outputs": [
    {
     "output_type": "display_data",
     "data": {
      "text/html": [
       "<style scoped>\n",
       "  .table-result-container {\n",
       "    max-height: 300px;\n",
       "    overflow: auto;\n",
       "  }\n",
       "  table, th, td {\n",
       "    border: 1px solid black;\n",
       "    border-collapse: collapse;\n",
       "  }\n",
       "  th, td {\n",
       "    padding: 5px;\n",
       "  }\n",
       "  th {\n",
       "    text-align: left;\n",
       "  }\n",
       "</style><div class='table-result-container'><table class='table-result'><thead style='background-color: white'><tr><th>customerid</th><th>Total_amount</th></tr></thead><tbody><tr><td>null</td><td>1755277.0</td></tr><tr><td>14646</td><td>280206.0</td></tr><tr><td>18102</td><td>259657.0</td></tr><tr><td>17450</td><td>194551.0</td></tr><tr><td>16446</td><td>168472.0</td></tr><tr><td>14911</td><td>143825.0</td></tr><tr><td>12415</td><td>124915.0</td></tr><tr><td>14156</td><td>117380.0</td></tr><tr><td>17511</td><td>91062.0</td></tr><tr><td>16029</td><td>81025.0</td></tr></tbody></table></div>"
      ]
     },
     "metadata": {
      "application/vnd.databricks.v1+output": {
       "addedWidgets": {},
       "aggData": [],
       "aggError": "",
       "aggOverflow": false,
       "aggSchema": [],
       "aggSeriesLimitReached": false,
       "aggType": "",
       "arguments": {},
       "columnCustomDisplayInfos": {},
       "data": [
        [
         null,
         1755277.0
        ],
        [
         14646,
         280206.0
        ],
        [
         18102,
         259657.0
        ],
        [
         17450,
         194551.0
        ],
        [
         16446,
         168472.0
        ],
        [
         14911,
         143825.0
        ],
        [
         12415,
         124915.0
        ],
        [
         14156,
         117380.0
        ],
        [
         17511,
         91062.0
        ],
        [
         16029,
         81025.0
        ]
       ],
       "datasetInfos": [],
       "dbfsResultPath": null,
       "isJsonSchema": true,
       "metadata": {},
       "overflow": false,
       "plotOptions": {
        "customPlotOptions": {},
        "displayType": "table",
        "pivotAggregation": null,
        "pivotColumns": null,
        "xColumns": null,
        "yColumns": null
       },
       "removedWidgets": [],
       "schema": [
        {
         "metadata": "{}",
         "name": "customerid",
         "type": "\"integer\""
        },
        {
         "metadata": "{}",
         "name": "Total_amount",
         "type": "\"double\""
        }
       ],
       "type": "table"
      }
     },
     "output_type": "display_data"
    }
   ],
   "source": [
    "cstmr_expense = df_retail.groupBy('customerid').agg(F.sum('Total_Price').alias(\"Total_amount\"))\n",
    "cstmr_expense = cstmr_expense.withColumn('Total_amount',F.round(F.col('Total_amount'))).sort('Total_amount',ascending = False)\n",
    "\n",
    "cstmr_expense.limit(10).display()"
   ]
  }
 ],
 "metadata": {
  "application/vnd.databricks.v1+notebook": {
   "dashboards": [],
   "language": "python",
   "notebookMetadata": {
    "mostRecentlyExecutedCommandWithImplicitDF": {
     "commandId": 3951853252378636,
     "dataframes": [
      "_sqldf"
     ]
    },
    "pythonIndentUnit": 4
   },
   "notebookName": "E-Commerce Sales Data Analysis",
   "widgets": {}
  }
 },
 "nbformat": 4,
 "nbformat_minor": 0
}
